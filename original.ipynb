{
 "cells": [
  {
   "cell_type": "code",
   "execution_count": 1,
   "metadata": {},
   "outputs": [
    {
     "data": {
      "text/html": [
       "<style>.container { width:100% !important; }</style>"
      ],
      "text/plain": [
       "<IPython.core.display.HTML object>"
      ]
     },
     "metadata": {},
     "output_type": "display_data"
    }
   ],
   "source": [
    "from IPython.display import display, HTML\n",
    "display(HTML(\"<style>.container { width:100% !important; }</style>\"))"
   ]
  },
  {
   "cell_type": "code",
   "execution_count": 2,
   "metadata": {},
   "outputs": [],
   "source": [
    "import os\n",
    "import pyspark\n",
    "from pyspark.sql import SparkSession\n",
    "from pyspark.sql.functions import col, count, month"
   ]
  },
  {
   "cell_type": "code",
   "execution_count": 3,
   "metadata": {},
   "outputs": [],
   "source": [
    "spark = SparkSession.builder.appName(\"OptimizeI\").getOrCreate()\n"
   ]
  },
  {
   "cell_type": "code",
   "execution_count": 4,
   "metadata": {},
   "outputs": [
    {
     "name": "stdout",
     "output_type": "stream",
     "text": [
      "c:\\sb\\projects\\spark-optimization\n"
     ]
    }
   ],
   "source": [
    "%cd c:/sb/projects/spark-optimization"
   ]
  },
  {
   "cell_type": "code",
   "execution_count": 5,
   "metadata": {},
   "outputs": [],
   "source": [
    "base_path = os.getcwd()"
   ]
  },
  {
   "cell_type": "code",
   "execution_count": 6,
   "metadata": {},
   "outputs": [
    {
     "name": "stdout",
     "output_type": "stream",
     "text": [
      "c:\\sb\\projects\\spark-optimization\n"
     ]
    }
   ],
   "source": [
    "print (base_path)\n"
   ]
  },
  {
   "cell_type": "code",
   "execution_count": 7,
   "metadata": {},
   "outputs": [],
   "source": [
    "answers_input_path = os.path.join(base_path, 'data\\\\answers')"
   ]
  },
  {
   "cell_type": "code",
   "execution_count": 8,
   "metadata": {},
   "outputs": [
    {
     "name": "stdout",
     "output_type": "stream",
     "text": [
      "c:\\sb\\projects\\spark-optimization\\data\\answers\n"
     ]
    }
   ],
   "source": [
    "print(answers_input_path)"
   ]
  },
  {
   "cell_type": "code",
   "execution_count": 9,
   "metadata": {
    "scrolled": false
   },
   "outputs": [],
   "source": [
    "questions_input_path = os.path.join(base_path, 'data\\\\questions')"
   ]
  },
  {
   "cell_type": "code",
   "execution_count": 10,
   "metadata": {},
   "outputs": [
    {
     "name": "stdout",
     "output_type": "stream",
     "text": [
      "c:\\sb\\projects\\spark-optimization\\data\\questions\n"
     ]
    }
   ],
   "source": [
    "print(questions_input_path)"
   ]
  },
  {
   "cell_type": "code",
   "execution_count": 11,
   "metadata": {
    "scrolled": true
   },
   "outputs": [],
   "source": [
    "answersDF = spark.read.option('path', answers_input_path).load()"
   ]
  },
  {
   "cell_type": "code",
   "execution_count": 12,
   "metadata": {
    "scrolled": false
   },
   "outputs": [
    {
     "name": "stdout",
     "output_type": "stream",
     "text": [
      "+-----------+---------+--------------------+--------+-------+-----+\n",
      "|question_id|answer_id|       creation_date|comments|user_id|score|\n",
      "+-----------+---------+--------------------+--------+-------+-----+\n",
      "|     226592|   226595|2015-12-29 13:46:...|       3|  82798|    2|\n",
      "|     388057|   388062|2018-02-22 08:52:...|       8|    520|   21|\n",
      "|     293286|   293305|2016-11-17 11:35:...|       0|  47472|    2|\n",
      "|     442499|   442503|2018-11-21 20:34:...|       0| 137289|    0|\n",
      "|     293009|   293031|2016-11-16 03:36:...|       0|  83721|    0|\n",
      "+-----------+---------+--------------------+--------+-------+-----+\n",
      "only showing top 5 rows\n",
      "\n"
     ]
    }
   ],
   "source": [
    "answersDF.show(5)"
   ]
  },
  {
   "cell_type": "code",
   "execution_count": 13,
   "metadata": {},
   "outputs": [],
   "source": [
    "questionsDF = spark.read.option('path', questions_input_path).load()"
   ]
  },
  {
   "cell_type": "code",
   "execution_count": 14,
   "metadata": {},
   "outputs": [
    {
     "name": "stdout",
     "output_type": "stream",
     "text": [
      "+-----------+--------------------+--------------------+--------------------+------------------+--------+-------+-----+\n",
      "|question_id|                tags|       creation_date|               title|accepted_answer_id|comments|user_id|views|\n",
      "+-----------+--------------------+--------------------+--------------------+------------------+--------+-------+-----+\n",
      "|     382738|[optics, waves, f...|2018-01-27 21:22:...|What is the pseud...|            382772|       0|  76347|   32|\n",
      "|     370717|[field-theory, de...|2017-11-24 23:09:...|What is the defin...|              null|       1|  75085|   82|\n",
      "|     339944|[general-relativi...|2017-06-17 10:32:...|Could gravitation...|              null|      13| 116137|  333|\n",
      "|     233852|[homework-and-exe...|2016-02-04 11:19:...|When does travell...|              null|       9|  95831|  185|\n",
      "|     294165|[quantum-mechanic...|2016-11-22 01:39:...|Time-dependent qu...|              null|       1| 118807|   56|\n",
      "+-----------+--------------------+--------------------+--------------------+------------------+--------+-------+-----+\n",
      "only showing top 5 rows\n",
      "\n"
     ]
    }
   ],
   "source": [
    "questionsDF.show(5)"
   ]
  },
  {
   "cell_type": "code",
   "execution_count": 15,
   "metadata": {},
   "outputs": [],
   "source": [
    "answers_month = answersDF.withColumn('month', month('creation_date')).groupBy('question_id', 'month').agg(count('*').alias('cnt'))"
   ]
  },
  {
   "cell_type": "code",
   "execution_count": 16,
   "metadata": {
    "scrolled": true
   },
   "outputs": [
    {
     "name": "stdout",
     "output_type": "stream",
     "text": [
      "+-----------+-----+---+\n",
      "|question_id|month|cnt|\n",
      "+-----------+-----+---+\n",
      "|     358894|    9|  5|\n",
      "|     332782|    5|  2|\n",
      "|     281552|    9|  2|\n",
      "|     332224|    5|  1|\n",
      "|     395851|    3|  3|\n",
      "+-----------+-----+---+\n",
      "only showing top 5 rows\n",
      "\n"
     ]
    }
   ],
   "source": [
    "answers_month.show(5)"
   ]
  },
  {
   "cell_type": "code",
   "execution_count": 17,
   "metadata": {},
   "outputs": [],
   "source": [
    "resultDF = questionsDF.join(answers_month, 'question_id').select('question_id', 'creation_date', 'title', 'month', 'cnt')"
   ]
  },
  {
   "cell_type": "code",
   "execution_count": 18,
   "metadata": {
    "scrolled": true
   },
   "outputs": [
    {
     "name": "stdout",
     "output_type": "stream",
     "text": [
      "+-----------+--------------------+--------------------+-----+---+\n",
      "|question_id|       creation_date|               title|month|cnt|\n",
      "+-----------+--------------------+--------------------+-----+---+\n",
      "|     155989|2014-12-31 15:59:...|Frost bubble form...|    2|  1|\n",
      "|     155989|2014-12-31 15:59:...|Frost bubble form...|   12|  1|\n",
      "|     155990|2014-12-31 16:51:...|The abstract spac...|   12|  2|\n",
      "|     155992|2014-12-31 17:44:...|centrifugal force...|   12|  1|\n",
      "|     155993|2014-12-31 17:56:...|How can I estimat...|    1|  1|\n",
      "|     155995|2014-12-31 19:16:...|Why should a solu...|    1|  2|\n",
      "|     155995|2014-12-31 19:16:...|Why should a solu...|   12|  1|\n",
      "|     155996|2014-12-31 20:06:...|Why do we assume ...|    1|  1|\n",
      "|     155996|2014-12-31 20:06:...|Why do we assume ...|    2|  1|\n",
      "|     155996|2014-12-31 20:06:...|Why do we assume ...|   11|  1|\n",
      "|     155996|2014-12-31 20:06:...|Why do we assume ...|   12|  1|\n",
      "|     155997|2014-12-31 20:26:...|Why do square sha...|    1|  2|\n",
      "|     155997|2014-12-31 20:26:...|Why do square sha...|   12|  1|\n",
      "|     155999|2014-12-31 21:01:...|Diagonalizability...|   12|  1|\n",
      "|     156008|2014-12-31 22:48:...|Capturing a light...|    1|  1|\n",
      "|     156008|2014-12-31 22:48:...|Capturing a light...|   11|  1|\n",
      "|     156008|2014-12-31 22:48:...|Capturing a light...|   12|  1|\n",
      "|     156016|2015-01-01 00:31:...|The interference ...|    1|  1|\n",
      "|     156020|2015-01-01 01:19:...|What is going on ...|    1|  1|\n",
      "|     156021|2015-01-01 01:21:...|How to calculate ...|    2|  1|\n",
      "+-----------+--------------------+--------------------+-----+---+\n",
      "only showing top 20 rows\n",
      "\n"
     ]
    }
   ],
   "source": [
    "resultDF.orderBy('question_id', 'month').show()"
   ]
  },
  {
   "cell_type": "code",
   "execution_count": 19,
   "metadata": {},
   "outputs": [
    {
     "data": {
      "text/plain": [
       "'\\nTask:\\n\\nsee the query plan of the previous result and rewrite the query to optimize it\\n'"
      ]
     },
     "execution_count": 19,
     "metadata": {},
     "output_type": "execute_result"
    }
   ],
   "source": [
    "'''\n",
    "Task:\n",
    "\n",
    "see the query plan of the previous result and rewrite the query to optimize it\n",
    "'''"
   ]
  },
  {
   "cell_type": "code",
   "execution_count": 20,
   "metadata": {},
   "outputs": [
    {
     "name": "stdout",
     "output_type": "stream",
     "text": [
      "== Physical Plan ==\n",
      "AdaptiveSparkPlan isFinalPlan=false\n",
      "+- Project [question_id#37L, creation_date#39, title#40, month#94, cnt#110L]\n",
      "   +- BroadcastHashJoin [question_id#37L], [question_id#0L], Inner, BuildRight, false\n",
      "      :- Filter isnotnull(question_id#37L)\n",
      "      :  +- FileScan parquet [question_id#37L,creation_date#39,title#40] Batched: true, DataFilters: [isnotnull(question_id#37L)], Format: Parquet, Location: InMemoryFileIndex(1 paths)[file:/c:/sb/projects/spark-optimization/data/questions], PartitionFilters: [], PushedFilters: [IsNotNull(question_id)], ReadSchema: struct<question_id:bigint,creation_date:timestamp,title:string>\n",
      "      +- BroadcastExchange HashedRelationBroadcastMode(List(input[0, bigint, true]),false), [id=#273]\n",
      "         +- HashAggregate(keys=[question_id#0L, month#94], functions=[count(1)])\n",
      "            +- Exchange hashpartitioning(question_id#0L, month#94, 200), ENSURE_REQUIREMENTS, [id=#270]\n",
      "               +- HashAggregate(keys=[question_id#0L, month#94], functions=[partial_count(1)])\n",
      "                  +- Project [question_id#0L, month(cast(creation_date#2 as date)) AS month#94]\n",
      "                     +- Filter isnotnull(question_id#0L)\n",
      "                        +- FileScan parquet [question_id#0L,creation_date#2] Batched: true, DataFilters: [isnotnull(question_id#0L)], Format: Parquet, Location: InMemoryFileIndex(1 paths)[file:/c:/sb/projects/spark-optimization/data/answers], PartitionFilters: [], PushedFilters: [IsNotNull(question_id)], ReadSchema: struct<question_id:bigint,creation_date:timestamp>\n",
      "\n",
      "\n"
     ]
    }
   ],
   "source": [
    "resultDF.explain()"
   ]
  }
 ],
 "metadata": {
  "kernelspec": {
   "display_name": "Python 3",
   "language": "python",
   "name": "python3"
  },
  "language_info": {
   "codemirror_mode": {
    "name": "ipython",
    "version": 3
   },
   "file_extension": ".py",
   "mimetype": "text/x-python",
   "name": "python",
   "nbconvert_exporter": "python",
   "pygments_lexer": "ipython3",
   "version": "3.8.5"
  }
 },
 "nbformat": 4,
 "nbformat_minor": 4
}
